{
 "cells": [
  {
   "cell_type": "code",
   "execution_count": 10,
   "metadata": {},
   "outputs": [],
   "source": [
    "def numSubarraysWithSum(nums, goal):\n",
    "        \"\"\"\n",
    "        :type nums: List[int]\n",
    "        :type goal: int\n",
    "        :rtype: int\n",
    "        \"\"\"\n",
    "        i = 0\n",
    "        j = 0\n",
    "        sum = 0\n",
    "        result = 0\n",
    "\n",
    "        while i < len(nums):\n",
    "            while sum <= goal and i < len(nums):\n",
    "                sum += nums[i]\n",
    "                if sum == goal:\n",
    "                    result += 1\n",
    "                i += 1\n",
    "            while sum >= goal and j < len(nums):\n",
    "                if sum == goal:\n",
    "                    result += 1\n",
    "                sum -= nums[j]\n",
    "                j += 1\n",
    "            \n",
    "        \n",
    "        return result"
   ]
  },
  {
   "cell_type": "code",
   "execution_count": 11,
   "metadata": {},
   "outputs": [
    {
     "data": {
      "text/plain": [
       "4"
      ]
     },
     "execution_count": 11,
     "metadata": {},
     "output_type": "execute_result"
    }
   ],
   "source": [
    "nums = [1,0,1,0,1]\n",
    "\n",
    "goal = 2\n",
    "\n",
    "numSubarraysWithSum(nums, goal)"
   ]
  },
  {
   "cell_type": "code",
   "execution_count": 12,
   "metadata": {},
   "outputs": [
    {
     "data": {
      "text/plain": [
       "10"
      ]
     },
     "execution_count": 12,
     "metadata": {},
     "output_type": "execute_result"
    }
   ],
   "source": [
    "nums = [0,0,0,0,0]\n",
    "\n",
    "goal = 0\n",
    "\n",
    "numSubarraysWithSum(nums, goal)"
   ]
  }
 ],
 "metadata": {
  "kernelspec": {
   "display_name": "Python 3",
   "language": "python",
   "name": "python3"
  },
  "language_info": {
   "codemirror_mode": {
    "name": "ipython",
    "version": 3
   },
   "file_extension": ".py",
   "mimetype": "text/x-python",
   "name": "python",
   "nbconvert_exporter": "python",
   "pygments_lexer": "ipython3",
   "version": "3.12.2"
  }
 },
 "nbformat": 4,
 "nbformat_minor": 2
}
